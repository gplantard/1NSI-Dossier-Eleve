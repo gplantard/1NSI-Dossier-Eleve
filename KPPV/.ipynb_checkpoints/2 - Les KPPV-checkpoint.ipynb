{
 "cells": [
  {
   "cell_type": "markdown",
   "metadata": {},
   "source": [
    "# Introduction\n",
    "\n",
    "Nous allons maintenant travailler sur un algorithme d'apprentissage automatique, souvent appelé, même en français, algorithme de machine learning. L'idée est d'utiliser un grand nombre de données afin \"d'apprendre à la machine\" à résoudre un certain type de problème (nous verrons un exemple un peu plus loin).\n",
    "Cette idée d'apprentissage automatique ne date pas d'hier, puisque le terme de machine learning a été utilisé pour la première fois par l'informaticien américain Arthur Samuel en 1959. Pourquoi le machine learning est tant \"à la mode\" depuis quelques années ? Simplement parce que le nerf de la guerre dans les algorithmes de machine learning est la qualité et la quantité des données (les données qui permettront à la machine d'apprendre à résoudre un problème), or, avec le développement d'internet, il est relativement simple de trouver des données sur n'importe quel sujet (on parle de \"big data\"). À noter aussi l'importance des stratégies mises en place par les GAFAM (Google, Apple, Facebook, Amazon et Microsoft) afin de récupérer un grand nombre de données concernant leurs clients. Ces données sont très souvent utilisées pour \"nourrir\" des algorithmes de machine learning (comment, d'après vous, Amazon arrive à proposer à ces clients des \"suggestions d'achats\" souvent très pertinentes ?)\n",
    "Nous allons étudier un algorithme d'apprentissage assez simple à appréhender : l'algorithme des \"k plus proches voisins\" : kppv (en anglais \"k nearest neighbors\" : knn)\n",
    "Afin de travailler sur un exemple, nous allons utiliser un jeu de données relativement connu dans le monde du machine learning : le jeu de données \"iris\".\n",
    "En 1936, Edgar Anderson a collecté des données sur 3 espèces d'iris : \"iris setosa\", \"iris virginica\" et \"iris versicolor\"\n",
    "<table>\n",
    "    <tr>\n",
    "        <td><img src=\"img/iris_setosa.jpg\"/></td>\n",
    "        <td><img src=\"img/iris_versicolor.jpg\"/></td>\n",
    "        <td><img src=\"img/iris_virginica.jpg\"/></td>\n",
    "    </tr>\n",
    "    <tr>\n",
    "        <td>iris setosa</td>\n",
    "        <td>iris versicolor</td>\n",
    "        <td>iris virginica</td>\n",
    "    </tr>\n",
    "</table>\n",
    "    \n",
    "Pour chaque iris étudié, Anderson a mesuré (en cm) :\n",
    "*\tla largeur des pétales\n",
    "*\tla longueur des pétales\n",
    "\n",
    "Pour chaque iris mesuré, Anderson a aussi noté l'espèce (\"iris setosa\", \"iris virginica\" ou \"iris versicolor\")\n",
    "Vous trouverez 150 de ces mesures dans le fichier iris.csv présent dans le répertoire.\n",
    "En résumé, vous trouverez dans ce fichier :\n",
    "*\tla longueur des pétales\n",
    "*\tla largeur des pétales\n",
    "*\tl'espèce de l'iris (au lieu d'utiliser les noms des espèces, on utilisera des chiffres : 0 pour \"iris setosa\", 1 pour \"iris virginica\" et 2 pour \"iris versicolor\")\n",
    "\n",
    "<img src=\"img/tableau_espece.png\" alt='extrait du jeu de données \"iris\"'/>\n"
   ]
  },
  {
   "cell_type": "markdown",
   "metadata": {},
   "source": [
    "\n",
    "Avant d'entrer dans le vif du sujet (algorithme knn), nous allons chercher à obtenir une représentation graphique des données contenues dans le fichier <a href=\"data/iris.csv\" target=\"_blank\">iris.csv</a> (accésible dans le répertoire \"data\")\n",
    "# Lecture du fichier de données\n",
    "\n",
    "Pour lire le nous allons utiliser le code suivant:"
   ]
  },
  {
   "cell_type": "code",
   "execution_count": null,
   "metadata": {
    "code_folding": [],
    "scrolled": false
   },
   "outputs": [],
   "source": [
    "import csv\n",
    "#===================================================\n",
    "# Extraction des données du fichier iris.csv\n",
    "#====================================================\n",
    "#chargement de la base de données\n",
    "with open(\"data/iris.csv\",\"r\") as fichier:\n",
    "    lignes_du_fichier = csv.reader(fichier,delimiter=\",\")\n",
    "    bdd = list(lignes_du_fichier)\n",
    "    \n",
    "print(\"bdd    :\",type(bdd))\n",
    "print(\"bdd[0] :\",type(bdd[0]))\n",
    "print(\"longueur de bdd :\",len(bdd))\n",
    "print(bdd[0])\n",
    "print(bdd)"
   ]
  },
  {
   "cell_type": "markdown",
   "metadata": {},
   "source": [
    "#### Questions\n",
    "\n",
    "1. Quel est le type de la variable bdd ?\n",
    "2. Que contient bdd[0] ?\n",
    "4. Quelle est la longueur de bdd ?\n",
    "3. Ajouter dans le block de code suivant une instruction pour supprimer ``bdd[0]``."
   ]
  },
  {
   "cell_type": "markdown",
   "metadata": {},
   "source": [
    "#### Réponses\n",
    "1. \n",
    "2. \n",
    "3. \n"
   ]
  },
  {
   "cell_type": "code",
   "execution_count": null,
   "metadata": {},
   "outputs": [],
   "source": [
    "import csv\n",
    "#===================================================\n",
    "# Extraction des données du fichier iris.csv\n",
    "#====================================================\n",
    "#chargement de la base de données\n",
    "with open(\"data/iris.csv\",\"r\") as fichier:\n",
    "    lignes_du_fichier = csv.reader(fichier,delimiter=\",\")\n",
    "    bdd = list(lignes_du_fichier)\n",
    "print(\"première ligne : \",bdd[0])\n",
    "\n",
    "# A vous de remplir\n",
    "\n",
    "print(\"première ligne : \",bdd[0])\n"
   ]
  },
  {
   "cell_type": "markdown",
   "metadata": {},
   "source": [
    "# Formalisation des données\n",
    "\n",
    "#### Question : \n",
    "1. De quel type sont les données récupérés (entier, nombre à virgule, chaine de caractère, autre...) ?"
   ]
  },
  {
   "cell_type": "markdown",
   "metadata": {},
   "source": [
    "#### Réponse:\n",
    "1.  "
   ]
  },
  {
   "cell_type": "markdown",
   "metadata": {},
   "source": [
    "Il faut donc les convertir dans un format numérique pour pouvoir les utiliser et les placer dans une repère.\n",
    "Nous allons parcourir l'ensemble des données pour les convertir en ``float``.\n",
    "\n",
    "Complétez le code suivant:"
   ]
  },
  {
   "cell_type": "code",
   "execution_count": null,
   "metadata": {},
   "outputs": [],
   "source": [
    "for i in range(...): #  pour chaque ligne\n",
    "    for j in range(...): # pour chaque valeur de la ligne\n",
    "        bdd[i][j] = float(bdd[i][j]) # on convertit la donnée en float\n",
    "        \n",
    "print(bdd)"
   ]
  },
  {
   "cell_type": "markdown",
   "metadata": {},
   "source": [
    "# Affichage des données\n",
    "\n",
    "En vous aidant de l'activité sur Mathplotlib, affichez les données du fichier csv dans un graphique en appiquand le code couleur suivant:\n",
    "* Les sétosa en vert\n",
    "* Les virginica en rouge\n",
    "* Les vertisicolor en bleu"
   ]
  },
  {
   "cell_type": "code",
   "execution_count": null,
   "metadata": {},
   "outputs": [],
   "source": [
    "# A vous de jouer"
   ]
  },
  {
   "cell_type": "markdown",
   "metadata": {
    "hidePrompt": true
   },
   "source": [
    "# Rappel : Calcul de distance\n",
    "L'algorithme des KPPV se base sur des calculs de distance entre deux points.\n",
    "\n",
    "Completez la fonction suivantes pour calculer la distance entre deux points."
   ]
  },
  {
   "cell_type": "code",
   "execution_count": null,
   "metadata": {},
   "outputs": [],
   "source": [
    "from math import *\n",
    "def distance(point1,point2):\n",
    "    xa = point1[0]\n",
    "    ya = point1[1]\n",
    "    \n",
    "    xb = point2[0]\n",
    "    yb = point2[1]\n",
    "    \n",
    "    #A vous de faire\n",
    "    #-------\n",
    "    resultat = 42\n",
    "    #------    \n",
    "    return resultat\n",
    "\n",
    "A = (9,-2)\n",
    "B = (1,4)\n",
    "print(\"Distance entre A\",A,\"et B\",B,\":\")\n",
    "print(distance(A,B))"
   ]
  },
  {
   "cell_type": "markdown",
   "metadata": {},
   "source": [
    "<b>Résultat attendu</b>:<br>\n",
    "Distance entre A (9, -2) et B (1, 4) :<br>\n",
    "10.0"
   ]
  }
 ],
 "metadata": {
  "kernelspec": {
   "display_name": "Python 3",
   "language": "python",
   "name": "python3"
  },
  "language_info": {
   "codemirror_mode": {
    "name": "ipython",
    "version": 3
   },
   "file_extension": ".py",
   "mimetype": "text/x-python",
   "name": "python",
   "nbconvert_exporter": "python",
   "pygments_lexer": "ipython3",
   "version": "3.6.7"
  }
 },
 "nbformat": 4,
 "nbformat_minor": 2
}
