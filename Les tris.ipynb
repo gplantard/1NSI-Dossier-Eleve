{
 "cells": [
  {
   "cell_type": "markdown",
   "metadata": {},
   "source": [
    "# Les tris\n",
    "\n",
    "## Prérequis\n",
    "* Savoir lire et parcourir les éléments d'un tableau\n",
    "\n",
    "## Introduction\n",
    "Le tri de valeur est une action très souvent réalisée dans les traitements informatique ou dans la vie de tou les jours. Il est par exemple plus facile de chercher une valeur dans une liste triée. Essayez de rechercher le mot \"chercher\" dans un dictionnaire qui n'est pas trié.\n",
    "\n",
    "Il y a plusieurs façons de trier des données. Nous allons voir dans cette activité comment un ordinateur peut trier des données et pourquoi en choisir une méthode par rapport à une autre.\n",
    "\n",
    "## Actions de base\n",
    "Pour trier des éléments, l'ordinateur aura besoin de savoir réaliser deux choses:\n",
    "* comparer deux valeurs\n",
    "* échanger (en place) deux valeurs dans une liste\n",
    "\n",
    "### Comparaison de deux valeurs\n",
    "la première chose qu'on doit être capable de faire est de les comparer ou des choisir un élément de comparaison. Je peut trier des personnes suivant leur age, leur taille , leur poid, leur IMC, la couleur de leur couleur de peau, de leur yeux ...\n",
    "Nous allons trier ici des valeurs numériques.\n",
    "\n",
    "Exercice:\n",
    "\n",
    "Faire une fonction ``compare(a,b)`` qui renvoie ``True`` si ``a ``est plus grand que ``b``, et ``False`` sinon."
   ]
  },
  {
   "cell_type": "code",
   "execution_count": 10,
   "metadata": {},
   "outputs": [],
   "source": [
    "def compare(a,b):\n",
    "    # A vous de complêter\n",
    "    return a>b"
   ]
  },
  {
   "cell_type": "code",
   "execution_count": 11,
   "metadata": {},
   "outputs": [
    {
     "name": "stdout",
     "output_type": "stream",
     "text": [
      "Test 1 :  False\n",
      "Test 2 :  True\n",
      "Test 3 :  False\n"
     ]
    }
   ],
   "source": [
    "# Tests de la fonction\n",
    "print(\"Test 1 : \", compare(2,3))\n",
    "print(\"Test 2 : \", compare(5,-7))\n",
    "print(\"Test 3 : \", compare(2.5,2.5))"
   ]
  },
  {
   "cell_type": "markdown",
   "metadata": {},
   "source": [
    "Résultat attendu:\n",
    "```\n",
    "Test 1 :  False\n",
    "Test 2 :  True\n",
    "Test 3 :  False\n",
    "```"
   ]
  },
  {
   "cell_type": "markdown",
   "metadata": {},
   "source": [
    "### Echange de deux valeurs\n",
    "Pour des question d'optimisation de la mémoire (nous y reviendrons plus tard), il faut savoir \n"
   ]
  },
  {
   "cell_type": "code",
   "execution_count": 12,
   "metadata": {},
   "outputs": [
    {
     "name": "stdout",
     "output_type": "stream",
     "text": [
      "Object `word` not found.\n"
     ]
    }
   ],
   "source": [
    "\n"
   ]
  }
 ],
 "metadata": {
  "celltoolbar": "Format de la Cellule Texte Brut",
  "kernelspec": {
   "display_name": "Python 3",
   "language": "python",
   "name": "python3"
  },
  "language_info": {
   "codemirror_mode": {
    "name": "ipython",
    "version": 3
   },
   "file_extension": ".py",
   "mimetype": "text/x-python",
   "name": "python",
   "nbconvert_exporter": "python",
   "pygments_lexer": "ipython3",
   "version": "3.6.7"
  }
 },
 "nbformat": 4,
 "nbformat_minor": 2
}
