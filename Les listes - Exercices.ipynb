{
 "cells": [
  {
   "cell_type": "markdown",
   "metadata": {},
   "source": [
    "# Exercice : Remplir une liste aléatoirement\n",
    "Faire une liste de 20 valeurs aléatoires choisies entre -10 et 20 puis l'afficher"
   ]
  },
  {
   "cell_type": "code",
   "execution_count": 12,
   "metadata": {},
   "outputs": [
    {
     "name": "stdout",
     "output_type": "stream",
     "text": [
      "[-6, 14, 13, 3, 15, -2, 0, -9, 8, 6, 18, 15, -3, -7, 7, -10, -8, -7, -3, 0]\n"
     ]
    }
   ],
   "source": [
    "from random import *\n",
    "\n",
    "# DOTO\n",
    "pass\n",
    "\n",
    "print(liste)"
   ]
  },
  {
   "cell_type": "markdown",
   "metadata": {},
   "source": [
    "Résultat attendu (*par exemple*):\n",
    "\n",
    "``[-6, 14, 13, 3, 15, -2, 0, -9, 8, 6, 18, 15, -3, -7, 7, -10, -8, -7, -3, 0]``"
   ]
  },
  {
   "cell_type": "markdown",
   "metadata": {},
   "source": [
    "# Exercice: Recherche d'extremum dans un liste\n",
    "## Version 1\n",
    "1. Faire une fonction ``minimum(liste)`` qui renvoie la valeur minimum de la liste de nombre\n",
    "2. Faire une fonction ``maximum(liste)`` qui renvoie la valeur maximum de la liste de nombre"
   ]
  },
  {
   "cell_type": "code",
   "execution_count": 1,
   "metadata": {},
   "outputs": [
    {
     "name": "stdout",
     "output_type": "stream",
     "text": [
      "Minimum :  None\n",
      "Maximum :  None\n"
     ]
    }
   ],
   "source": [
    "def minimum(liste):\n",
    "    # A vous de completer\n",
    "    pass\n",
    "    # ------\n",
    "\n",
    "def maximum(liste):\n",
    "    # A vous de completer\n",
    "    pass\n",
    "    # ------\n",
    "\n",
    "ma_liste = [1, -7, 16, 19, 12, 14, 16, 7, 0, 7, 14, 6, 0, 2, -6, 14, -1, -1, 11, 7]\n",
    "print (\"Minimum :\",minimum(ma_liste))\n",
    "print (\"Maximum :\",maximum(ma_liste))"
   ]
  },
  {
   "cell_type": "markdown",
   "metadata": {},
   "source": [
    "Résultat attendu:\n",
    "````\n",
    "Minimum : -7\n",
    "Maximum : 19\n",
    "````"
   ]
  },
  {
   "cell_type": "markdown",
   "metadata": {},
   "source": [
    "## Version 2\n",
    "1. Faire une fonction ``minimum2(liste)`` qui renvoie l'indice de la valeur minimum ainsi que le minimum de la liste de nombre\n",
    "2. Faire une fonction ``maximum2(liste)`` qui renvoie l'indice de la valeur maximum ainsi que le maximum de la liste de nombre"
   ]
  },
  {
   "cell_type": "code",
   "execution_count": 5,
   "metadata": {},
   "outputs": [
    {
     "name": "stdout",
     "output_type": "stream",
     "text": [
      "Minimum :  (1, -7)\n",
      "Maximum :  None\n"
     ]
    }
   ],
   "source": [
    "def minimum2(liste):\n",
    "    # A vous de completer\n",
    "    pass\n",
    "    # ------\n",
    "\n",
    "def maximum2(liste):\n",
    "    # A vous de completer\n",
    "    pass\n",
    "    # ------\n",
    "\n",
    "ma_liste = [1, -7, 16, 19, 12, 14, 16, 7, 0, 7, 14, 6, 0, 2, -6, 14, -1, -1, 11, 7]\n",
    "print (\"Minimum :\",minimum2(ma_liste))\n",
    "print (\"Maximum :\",maximum2(ma_liste))"
   ]
  },
  {
   "cell_type": "markdown",
   "metadata": {},
   "source": [
    "Résultat attendu:\n",
    "````\n",
    "Minimum : (1, -7)\n",
    "Maximum : (3, 19)\n",
    "````"
   ]
  }
 ],
 "metadata": {
  "kernelspec": {
   "display_name": "Python 3",
   "language": "python",
   "name": "python3"
  },
  "language_info": {
   "codemirror_mode": {
    "name": "ipython",
    "version": 3
   },
   "file_extension": ".py",
   "mimetype": "text/x-python",
   "name": "python",
   "nbconvert_exporter": "python",
   "pygments_lexer": "ipython3",
   "version": "3.6.7"
  }
 },
 "nbformat": 4,
 "nbformat_minor": 2
}
