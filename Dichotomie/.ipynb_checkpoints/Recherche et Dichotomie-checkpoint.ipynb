{
 "cells": [
  {
   "cell_type": "markdown",
   "metadata": {},
   "source": [
    "# Algorithme de recherche\n",
    "Il devient de plus en plus important de rechercher une information le plus rapidement possible. Nous allons voir à travers cette activité une méthode pour chercher rapidement une information.\n",
    "\n",
    "## Algorithme naïf\n",
    "Completez le code de la fonction ``chercher(valeur, liste)`` qui permet de dire si une valeur est présente dans une liste ou non. Pour cela :\n",
    "1. Parcourez l'ensemble des valeurs de la liste.\n",
    "2. Regardez si cela correspont à la valeur recherchée.\n",
    "  * si oui, retournez ``True``\n",
    "  * sinon, passez à la valeur suivante.\n",
    "\n",
    "*N.B : On pourrait pour faire cela utiliser le mot clé ``in`` en utilisant le code suivant :*\n",
    "````python\n",
    "if (valeur in liste):\n",
    "    return True\n",
    "else:\n",
    "    return False\n",
    "````\n",
    "*ou encore*\n",
    "````python\n",
    "return valeur in liste\n",
    "````\n",
    "*Il va de soit qu'il **ne faut pas** l'utiliser pour cet exercice!* \n"
   ]
  },
  {
   "cell_type": "code",
   "execution_count": null,
   "metadata": {},
   "outputs": [],
   "source": [
    "def chercher(valeur, liste):\n",
    "    # A vous de complêter\n",
    "    pass\n",
    "\n",
    "listePrenom = ['Apolline', 'Benny', 'Candice', 'Colomban', 'Elsa', 'Evrard', 'Gwenhael', 'Idris', 'Jordan', 'Marine', 'Rose', 'Salome']\n",
    "\n",
    "print(\"Présence de Elsa dans la liste :\",chercher(\"Elsa\",listePrenom))\n",
    "print(\"Présence de Romain dans la liste :\",chercher(\"Romain\",listePrenom))"
   ]
  },
  {
   "cell_type": "markdown",
   "metadata": {},
   "source": [
    "*Résultats attendus:*\n",
    "````\n",
    "Présence de Elsa dans la liste : True\n",
    "Présence de Romain dans la liste : False\n",
    "````"
   ]
  },
  {
   "cell_type": "markdown",
   "metadata": {},
   "source": [
    "**Questions:**\n",
    "1. Combien de valeurs seront lues avant de trouver le prénom \"Jordan\" ?\n",
    "1. Combien de valeurs seront lues avant de s'assurer que le prénom \"Lorenzo\" n'est pas dans la liste?\n",
    "1. Comment est la liste ?\n"
   ]
  },
  {
   "cell_type": "markdown",
   "metadata": {},
   "source": [
    "*Réponses*:\n",
    "1. \n",
    "2. \n",
    "3. "
   ]
  },
  {
   "cell_type": "markdown",
   "metadata": {},
   "source": [
    "## Petit Jeu\n",
    "Voici un petit jeu bien connu. L'ordinateur choisi un nombre entre 0 et 100. Le but : Trouver la bonne valeur en le moins de coup possible.\n",
    "\n",
    "Essayez ce jeu quelque fois pour trouver un moyen de trouver le bon nombre le plus rapidement possible."
   ]
  },
  {
   "cell_type": "code",
   "execution_count": null,
   "metadata": {},
   "outputs": [],
   "source": [
    "from random import *\n",
    "\n",
    "valeur = randint(0,100)\n",
    "nbcoup = 1\n",
    "proposition = eval(input(\"L'ordinateur a choisi une valeur entre 1 et 100.\\nA toi de trouver la bonne valeur le plus rapidement possible.\\n\"))\n",
    "while (valeur != proposition):\n",
    "    nbcoup+=1\n",
    "    if (valeur > proposition):\n",
    "        proposition = eval(input(\"Plus grand : \"))\n",
    "    else :\n",
    "        proposition = eval(input(\"Plus petit : \"))\n",
    "print(\"Bravo, tu as trouvé la bonne valeur.\")\n",
    "print(\" - Valeur à chercher :\", valeur)\n",
    "print(\" - Nombre de tentative :\", nbcoup)"
   ]
  },
  {
   "cell_type": "markdown",
   "metadata": {},
   "source": [
    "**Questions** : \n",
    "\n",
    "* Décrivez la méthode que vous avez utilisés pour trouver la bonne valeur le plus rapidement possible ?\n",
    "* Combien de coup faut-il pour trouver la valeur 50 ?\n",
    "* Combien de coup faut-il pour trouver la valeur 42 ?\n",
    "* Combien de coup faut-il pour trouver une valeur dans le pire des cas ?\n",
    "* Est-ce plus rapide que la méthode vu plus haute ?\n"
   ]
  },
  {
   "cell_type": "markdown",
   "metadata": {},
   "source": [
    "Réponses :\n",
    "* \n",
    "* \n",
    "* \n",
    "* "
   ]
  },
  {
   "cell_type": "markdown",
   "metadata": {},
   "source": [
    "# Recherche par dichotomie\n",
    "\n",
    "*Dichotomie* : Du grec ancien διχοτομία, dikhotomia (« division en deux parties ») ([Plus de détail ici](https://www.lalanguefrancaise.com/dictionnaire/definition-dichotomie/#Etymologie_de_dichotomie)).\n",
    "\n",
    "L'algorithme de dicotomie est l'algorithme que vous avez utilisé naturellement pour trouver la valeur le plus vite possible. Le but est de savoir si une valeur est présente dans une liste. Plutôt que de tester les valeurs une par une, on va rechercher intelligement en divisant en deux le champs des possibles.\n",
    "\n",
    "**Pré-requis** : la liste doit être **triée** sans quoi l'algorithme ne foncitonne pas.\n",
    "\n",
    "**Procédure** : \n",
    "1. On regarde la valeur médiane (la valeur au milieu de la liste)\n",
    "  - Si c'est la bonne valeur : banco !\n",
    "  - Si la valeur recherchée est plus petite (ou avant dans l'alphabet) : on cherche \"à gauche\" de cette valeur et on élimine de reste.\n",
    "  - Sinon, on cherche à droite de la même façon.\n",
    "2. On recommence en prenant en compte que la partie de la liste qui est encore possible.\n",
    "\n",
    "**Conditions d'arrêt** :\n",
    "* Soit on a trouvé la valeur recherchée.\n",
    "* Soit on n'a plus d'endroit où chercher."
   ]
  },
  {
   "cell_type": "markdown",
   "metadata": {},
   "source": [
    "*Exemple* : Recherche de la valeur **12** (dans la liste)\n",
    "![Dichotomie Success](img/success_v3.gif)\n",
    "\n",
    "*Exemple* : Recherche de la valeur **23** (absente de la liste)\n",
    "![Dichotomie Fail](img/fail_v3.gif)"
   ]
  },
  {
   "cell_type": "markdown",
   "metadata": {},
   "source": [
    "*Remarque* : Comme par magie ici, il y a toujours une valeur \"centrale\" car les morceaux de liste étudiée sont toujours de longueur impaire. Dans le cas contraire, il aurait suffit de prendre la valeur avant ou après."
   ]
  },
  {
   "cell_type": "markdown",
   "metadata": {},
   "source": [
    "## Mise en place de l'algorithme\n",
    "Il y a plusieurs façons de faire en sorte de se limiter à la partie interressante de la liste. Ici (comme montré dans les animations) nous allons jouer avec les indices des valeurs \"bornes\" (\"Début\" et \"Fin\").\n",
    "La première étape consiste à touver l'indice de la valeur \"centrale\"\n",
    "\n",
    "### Exercice\n",
    "Completez la fonction ``indiceCentral(min,max)`` pour renvoyer en théorie l'indice de la valeur centrale. \n",
    "\n",
    "*Remarque *: \n",
    "* C'est un calcul de milieu comme vu en seconde\n",
    "* Utilisez la division entière ( 11/3 = 3,66666.... alors que 11//3 = 3"
   ]
  },
  {
   "cell_type": "code",
   "execution_count": 10,
   "metadata": {},
   "outputs": [
    {
     "name": "stdout",
     "output_type": "stream",
     "text": [
      "a= 3.6666666666666665\n",
      "b= 3\n"
     ]
    }
   ],
   "source": [
    "a = 11/3\n",
    "print(\"a=\",a)\n",
    "b= 11//3\n",
    "print(\"b=\",b)"
   ]
  },
  {
   "cell_type": "code",
   "execution_count": null,
   "metadata": {},
   "outputs": [],
   "source": [
    "def indiceCentral(min,max):\n",
    "    pass\n",
    "\n",
    "# test de la fonction\n",
    "print(\"Min :\",1,\"- Max :\", 5,\" -> Indice central :\",indiceCentral(1,5))\n",
    "print(\"Min :\",2,\"- Max :\", 6,\" -> Indice central :\",indiceCentral(2,6))\n",
    "print(\"Min :\",2,\"- Max :\", 5,\" -> Indice central :\",indiceCentral(2,5))\n",
    "print(\"Min :\",7,\"- Max :\", 7,\" -> Indice central :\",indiceCentral(7,7))\n"
   ]
  },
  {
   "cell_type": "markdown",
   "metadata": {},
   "source": [
    "*Résultats attentus*:\n",
    "````\n",
    "Min : 1 - Max : 5  -> Indice central : 3\n",
    "Min : 2 - Max : 6  -> Indice central : 4\n",
    "Min : 2 - Max : 5  -> Indice central : 3\n",
    "Min : 7 - Max : 7  -> Indice central : 7\n",
    "````"
   ]
  },
  {
   "cell_type": "markdown",
   "metadata": {},
   "source": [
    "### Questions\n",
    "1. A quelle(s) condition(s) allons nous stopper notre algorithme de dichotomie ?\n",
    "2. Et donc à quelle(s) condition(s) allons nous continuer notre algorithme ?\n",
    "3. Notre algorithme peut-il tourner en rond ? Pourquoi ?"
   ]
  },
  {
   "cell_type": "markdown",
   "metadata": {},
   "source": [
    "*Réponses*:\n",
    "1. \n",
    "2. \n",
    "3. \n"
   ]
  },
  {
   "cell_type": "markdown",
   "metadata": {},
   "source": [
    "## Implémentation de l'algorithme\n",
    "\n",
    "Nous pouvons mettre en place l'algorithme de recherche dichotomique. Récapitulons\n",
    "* On calcule l'indice où se trouve la valeur centrale grâce aux valeurs ``min`` et ``max``\n",
    "* On regarde la valeur se trouvant à cette emplacement\n",
    "  * Si elle est égale : on a trouvé la valeur. (On retourne ``True``)\n",
    "  * Si elle est plus grande : on modifie la valeur ``min``\n",
    "  * Si elle est plus petite : on modifie la valeur ``max``\n",
    "\n",
    "On continue ça tant que ``max`` est plus grand que ``min``\n",
    "\n",
    "Complêtez le code de la fonction suivante pour mettre en place l'algorithme décrit ci-dessus.\n",
    "*Remarque* : \n",
    "* ``TODO`` : Ce sont les lignes que vous devez compléter ou modifier\n",
    "* Vous pouvez effacer les ``TODO`` une fois le code complété\n",
    "* ``DEBUG`` : Ce sont des lignes qui ne sont pas nécessaires mais qui vous permetteront de mieux comprendre où en est le programme"
   ]
  },
  {
   "cell_type": "code",
   "execution_count": null,
   "metadata": {},
   "outputs": [],
   "source": [
    "def dichotomie(valeur, liste_triee):\n",
    "    min = 0    # l'indice de la première valeur du tableau\n",
    "    max = 42   # TODO : trouvez l'indice de la dernière valeur de la liste\n",
    "    while (True) : # TODO : on continue tant que ...\n",
    "        print(\"Valeur\",valeur,\"comprise entre \",liste_triee[min],\"et\",liste_triee[max]) # DEBUG : Permet de voir le comportement du programme\n",
    "        milieu = 42 # TODO : calculez l'indice de la valeur centrale\n",
    "        valeurCentrale = 42 # TODO : Récupérez la valeur centrale\n",
    "        if (valeur == valeurCentrale):\n",
    "            pass # TODO : que faire quand la valeur centrale est la valeur recherchée ?\n",
    "        elif (valeur > valeurCentrale):\n",
    "            pass # TODO : on change la valeur de min\n",
    "        else:\n",
    "            pass # TODO : On change la valeur de max\n",
    "    #On a recherché partout. La valeur n'est pas dans la liste\n",
    "    return # TODO : retournez la bonne valeur\n",
    "\n",
    "# Test de la fonction\n",
    "liste = [1, 5, 7, 8, 11, 12, 13, 19, 22, 25, 26, 27, 27, 29, 30]\n",
    "print(\"Présence de 27 dans la liste :\",dichotomie(27,liste))\n",
    "print(\"Présence de 28 dans la liste :\",dichotomie(3,liste))\n",
    "\n",
    "# Test de la fonction avec des prénoms\n",
    "listePrenom = ['Apolline', 'Benny', 'Candice', 'Colomban', 'Elsa', 'Evrard', 'Gwenhael', 'Idris', 'Jordan', 'Marine', 'Rose', 'Salome']\n",
    "print(\"Présence de Elsa dans la liste :\",dichotomie(\"Elsa\",listePrenom))\n",
    "print(\"Présence de Romain dans la liste :\",dichotomie(\"Romain\",listePrenom))"
   ]
  },
  {
   "cell_type": "markdown",
   "metadata": {},
   "source": [
    "*Résultats attentues*:\n",
    "````\n",
    "Présence de 27 dans la liste : True\n",
    "Présence de 3 dans la liste : False\n",
    "Présence de Elsa dans la liste : True\n",
    "Présence de Romain dans la liste : False\n",
    "````"
   ]
  },
  {
   "cell_type": "markdown",
   "metadata": {},
   "source": [
    "# Etude de la fonction\n",
    "## Comportement en mémoire\n",
    "Pour voir ce que ce passe en mémoire, éxecutez les cellules suivantes das l'ordre."
   ]
  },
  {
   "cell_type": "code",
   "execution_count": 20,
   "metadata": {},
   "outputs": [],
   "source": [
    "from metakernel import register_ipython_magics\n",
    "register_ipython_magics()"
   ]
  },
  {
   "cell_type": "code",
   "execution_count": null,
   "metadata": {},
   "outputs": [],
   "source": [
    "%%tutor\n",
    "def dichotomie(valeur, liste_triee):\n",
    "    min = 0    # l'indice de la première valeur du tableau\n",
    "    max = len(liste_triee)-1  \n",
    "    while (max>=min) : \n",
    "        print(\"Valeur\",valeur,\"comprise entre \",liste_triee[min],\"et\",liste_triee[max]) # DEBUG : Permet de voir le comportement du programme\n",
    "        milieu = (min+max)//2\n",
    "        valeurCentrale = liste_triee[milieu]\n",
    "        if (valeur == valeurCentrale):\n",
    "            return True\n",
    "        elif (valeur > valeurCentrale):\n",
    "            min = milieu+1\n",
    "        else:\n",
    "            max = milieu-1\n",
    "    return False\n",
    "\n",
    "liste = [1, 5, 7, 8, 11, 12, 13, 19, 22, 25, 26, 27, 27, 29, 30]\n",
    "print(\"Présence de 27 dans la liste :\",dichotomie(27,liste))"
   ]
  },
  {
   "cell_type": "markdown",
   "metadata": {},
   "source": [
    "## Complexité\n",
    "Pour savoir si un programme est \"efficace\", on calcule sa complexité en temps. Pour $n$ valeurs dans la liste, combien de temps maximum va mettre le programme pour résoudre un problème ? Pour savoir cela, on compte le nombre d'itérations qui seront faites par exemple.\n",
    "\n",
    "On va comparer les deux modes de recherche vus dans cette activité, la recherche linéaire (algo naïf) et la recherche dicothomique.\n",
    "La première chose à faire est d'imaginer le **pire des cas**. Ici, pour les deux algorithmes, Le pire des cas est de ne pas trouver la valeur dans la liste.\n",
    "\n",
    "### Recherche linéaire\n",
    "**Pire des cas** : La valeur n'est pas dans la liste.\n",
    "\n",
    "**Complexité** : pour n valeur dans la liste, il faudra parcourir les n valeurs avant de se rendre compte que la valeur n'est pas présente. On dit que la complexité est linéaire : $O(n)$\n",
    "\n",
    "### Recherche dichotomique\n",
    "**Pire des cas** : La valeur n'est pas dans la liste.\n",
    "\n",
    "**Complexité** : A chaque itération, on élimine la moitié des possibilités. On va donc diviser la liste des posibilités par 2 succésivement jusqu'à n'avoir qu'une valeur restante. Vous verrez en spécialité Mathématiques en Terminale si vous en avez l'occasion que les divisions successives par 2 correspont à la fonction logarithme binaire (logarithme en base 2) qui s'écrit $\\log_2(n)$.\n",
    "\n",
    "On dit que la complexité de l'algorithme est logarithmirque : $O(\\log(n))$ (ce qui est très bien).\n",
    "\n",
    "*Exemple* : dans le petit jeu du début de l'activité, nous devions trouver une valeur entre 0 et 100.\n",
    "$$\\log_2(100)\\approx 6.643856189774724 $$\n",
    "Il faut donc 7 tentatives pour trouver une valeur dans le pire des cas."
   ]
  },
  {
   "cell_type": "code",
   "execution_count": 2,
   "metadata": {},
   "outputs": [
    {
     "name": "stdout",
     "output_type": "stream",
     "text": [
      "Pour 100 valeurs, il suffit de 6.643856189774724 valeurs (donc 7 valeurs)\n"
     ]
    }
   ],
   "source": [
    "from math import *\n",
    "nbvaleur = 100\n",
    "print (\"Pour\",nbvaleur,\"valeurs, il suffit de\",log2(nbvaleur),\"valeurs (donc\",ceil(log2(nbvaleur)),\"valeurs)\")"
   ]
  },
  {
   "cell_type": "markdown",
   "metadata": {},
   "source": [
    "**Questions** : en utilisant le code ci-dessus, veuillez compléter le tableau ci-dessous.\n",
    "\n",
    "| Nombre de valeur <br>dans la liste | Nombre de tentatives <br> nécessaire |\n",
    "|------------------------------|---------------------------------|\n",
    "|              100             |               7                 | \n",
    "|              1000           |                                | \n",
    "|              10 000         |                                | \n",
    "|              100 000        |                                | \n",
    "|              1 000 000      |                                | \n",
    "|              10 000 000     |                                | \n",
    "|              100 000 000    |                                | \n",
    "|              1 000 000 000  |                                | \n",
    "|1000 000 000 000  (de mille sabord)|                           | \n",
    "|1 000 000 000 000 000 <br>(de sabord, donc un péta-sabord)|                           | \n"
   ]
  },
  {
   "cell_type": "markdown",
   "metadata": {},
   "source": [
    "## Simulation\n",
    "\n",
    "Le code suivant contient des versions modifiées des fonctions de recherche : elle retourne le nombre d'itérations executées avant d'avoir un résutat. Cela nous permettra d'avoir un graphique affichant les complexités théoriques ainsi que des cas concrets de recherche dans une liste.\n",
    "\n",
    "Vous noterez la différence d'unité sur l'axe des ordonnées entre les deux graphiques.\n",
    "\n",
    "*Remarque : Le temps de calcul pour être un peu long. Merci d'être patient.*"
   ]
  },
  {
   "cell_type": "code",
   "execution_count": 7,
   "metadata": {},
   "outputs": [
    {
     "name": "stdout",
     "output_type": "stream",
     "text": [
      "Simulation en cours...\n",
      "Simulation terminée !\n",
      "Affichage du résultat...\n"
     ]
    },
    {
     "data": {
      "image/png": "[encoded data removed]",
      "text/plain": [
       "<Figure size 720x720 with 2 Axes>"
      ]
     },
     "metadata": {
      "needs_background": "light"
     },
     "output_type": "display_data"
    }
   ],
   "source": [
    "import numpy as np\n",
    "import matplotlib.pyplot as plt\n",
    "\n",
    "from random import *\n",
    "\n",
    "def recherche_lineaire(val,liste):\n",
    "    nbcoup = 0\n",
    "    for v in liste:\n",
    "        nbcoup += 1\n",
    "        if v==val : \n",
    "            return nbcoup\n",
    "    return nbcoup\n",
    "\n",
    "def dochotomie(val,liste):\n",
    "    nbcoup = 0\n",
    "    min = 0    # l'indice de la première valeur du tableau\n",
    "    max = len(liste)-1  \n",
    "    while (max>=min) : \n",
    "        nbcoup +=1\n",
    "        milieu = (min+max)//2\n",
    "        valeurCentrale = liste[milieu]\n",
    "        if (valeur == valeurCentrale):\n",
    "            return nbcoup\n",
    "        elif (valeur > valeurCentrale):\n",
    "            min = milieu+1\n",
    "        else:\n",
    "            max = milieu-1\n",
    "    return nbcoup\n",
    "\n",
    "x=np.linspace(1,1000,200)\n",
    "\n",
    "\n",
    "print(\"Simulation en cours...\")\n",
    "y_lineaire=[]\n",
    "y_dicho = []\n",
    "for i in x:\n",
    "    # création d'une liste de valeur aléatoire de 0 à x*3\n",
    "    liste = [randint(0,int(i*2)) for j in range(int(i))]\n",
    "    liste.sort()\n",
    "    # recherche d'une valeur aléatoire dans la liste en utilisant les deux méthodes\n",
    "    valeur = randint(0,int(i*2))\n",
    "    y_lineaire.append(recherche_lineaire(valeur, liste))\n",
    "    y_dicho.append(dochotomie(valeur, liste))\n",
    "print(\"Simulation terminée !\")\n",
    "print(\"Affichage du résultat...\")\n",
    "    \n",
    "figure = plt.figure(figsize = (10, 10))\n",
    "# resultat de la recherche linéaire\n",
    "ax = figure.add_subplot(2, 1, 1)\n",
    "ax.plot(x, x,label=\"f(x)=x\")\n",
    "ax.scatter(x, y_lineaire,label=\"Recherche linéaire\",c='coral')\n",
    "ax.set(xlabel='Longueur de liste', ylabel='Nombre de coup',\n",
    "       title='Efficacité de la recherche linéaire')\n",
    "ax.grid()\n",
    "ax.legend()\n",
    "\n",
    "#resultat de la recherche dichotomique\n",
    "ax = figure.add_subplot(2, 1, 2)\n",
    "ax.plot(x, np.log2(x),label=\"f(x)=log_2(x)\")\n",
    "ax.scatter(x, y_dicho,label=\"Recherche dichotomique\",c='coral')\n",
    "ax.set(xlabel='Longueur de liste', ylabel='Nombre de coup',\n",
    "       title='Efficacité de la recherche dichotomique')\n",
    "ax.grid()\n",
    "ax.legend()\n",
    "\n",
    "plt.show()\n"
   ]
  },
  {
   "cell_type": "markdown",
   "metadata": {},
   "source": [
    "On voit que, à moins que la valeur recherchée soit en tout début de liste, la recherche dichotomique est bien plus efficace. Pour une liste de 1000 éléments, le nombre de tentative monte vite, alors que dans le pire de cas, la recherche dichotomique n'a besoin que de 10 tentatives."
   ]
  }
 ],
 "metadata": {
  "kernelspec": {
   "display_name": "Python 3",
   "language": "python",
   "name": "python3"
  },
  "language_info": {
   "codemirror_mode": {
    "name": "ipython",
    "version": 3
   },
   "file_extension": ".py",
   "mimetype": "text/x-python",
   "name": "python",
   "nbconvert_exporter": "python",
   "pygments_lexer": "ipython3",
   "version": "3.6.7"
  }
 },
 "nbformat": 4,
 "nbformat_minor": 2
}
