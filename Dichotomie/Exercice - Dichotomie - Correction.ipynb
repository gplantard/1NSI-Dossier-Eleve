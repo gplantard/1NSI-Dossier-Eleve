{
 "cells": [
  {
   "cell_type": "markdown",
   "metadata": {},
   "source": [
    "# Exercice\n",
    "\n",
    "On vous donne le liste suivante : ``[4, 8, 15, 16, 23, 42, 108]``\n",
    "1. Peut-on appliquer la recherche dichotomique ?\n",
    " -> Oui car la liste est triée.\n",
    "2. Combien de valeur le programme doit lire avant de trouver la valeur ``16`` ?\n",
    "3. Combien de valeur le programme doit lire avant de trouver la valeur ``23`` ?\n",
    "4. Combien de valeur le programme doit lire avant de trouver la valeur ``4`` ?\n",
    "5. Combien de valeur le programme doit lire avant de ne pas trouver la valeur ``50`` ?\n"
   ]
  },
  {
   "cell_type": "markdown",
   "metadata": {},
   "source": [
    "**Correction**:\n",
    "1. Oui on peut appliquer la recherche dichotomique car la liste est triée.\n",
    "2. Il suffit de lire une seule valeur (le 16).\n",
    "3. On doit lire 3 valeurs : 16, 42, 23.\n",
    "4. On doit lire 3 valeurs : 16, 8, 4\n",
    "5. Le programme va lire 3 valeurs : 16, 42, 108"
   ]
  },
  {
   "cell_type": "markdown",
   "metadata": {},
   "source": [
    "# Exercice\n",
    "\n",
    "On vous donne le liste suivante : ``[37, 28, 45, 46, 6, 9, 21, 5, 43, 20]``\n",
    "1. Peut-on appliquer la recherche dichotomique ?\n",
    "2. Combien de valeur le programme doit lire avant de trouver la valeur ``6`` ?\n",
    "3. Combien de valeur le programme doit lire avant de trouver la valeur ``9`` ?\n",
    "4. Combien de valeur le programme doit lire avant de trouver la valeur ``37`` ?\n",
    "5. Combien de valeur le programme doit lire avant de ne pas trouver la valeur ``50`` ?\n"
   ]
  },
  {
   "cell_type": "markdown",
   "metadata": {},
   "source": [
    "**Correction** :\n",
    "1. Non, on ne peut pas appliquer la recherche dichotomique car la liste n'est pas triée.\n",
    "2. Il faut lire 5 valeurs : 37, 28, 45, 46, 6.\n",
    "3. Il faut lire 6 valeurs : 37, 28, 45, 46, 6, 9.\n",
    "4. Il faut lire une seule valeur : le 37.\n",
    "5. il faut parcourir l'ensemble de la liste, soit 10 valeurs."
   ]
  },
  {
   "cell_type": "markdown",
   "metadata": {},
   "source": [
    "# Exercice\n",
    "On vous donne le liste suivante :``['Bleu', 'Rose', 'Marron', 'Noir', 'Bleu', 'Gris', 'Rouge', 'Noir', 'Vert', 'Orange']``\n",
    "1. Peut-on appliquer la recherche dichotomique ?\n",
    "2. Combien de valeur le programme doit lire avant de trouver la valeur ``\"Bleu\"`` ?\n",
    "3. Combien de valeur le programme doit lire avant de trouver la valeur ``\"Gris\"`` ?\n",
    "4. Combien de valeur le programme doit lire avant de trouver la valeur ``Orange`` ?\n",
    "5. Combien de valeur le programme doit lire avant de ne pas trouver la valeur ``Turquoise`` ?\n"
   ]
  },
  {
   "cell_type": "markdown",
   "metadata": {},
   "source": [
    "**Correction** :\n",
    "1. Non, on ne peut pas appliquer la recherche dichotomique car la liste n'est pas triée.\n",
    "2. Il faut lire une seule valeur : \"Bleu\"\n",
    "3. Il faut lire 6 valeurs : 'Bleu', 'Rose', 'Marron', 'Noir', 'Bleu', 'Gris'\n",
    "4. Il faut lire 10 valeurs : 'Bleu', 'Rose', 'Marron', 'Noir', 'Bleu', 'Gris', 'Rouge', 'Noir', 'Vert', 'Orange'\n",
    "5. Il faut parcourir les 10 valeurs de la liste."
   ]
  },
  {
   "cell_type": "markdown",
   "metadata": {},
   "source": [
    "# Exercice\n",
    "On vous donne le liste suivante :``['Bleu', 'Bleu', 'Gris', 'Marron', 'Noir', 'Noir', 'Orange', 'Rose', 'Rouge', 'Vert']``\n",
    "1. Peut-on appliquer la recherche dichotomique ?\n",
    "2. Combien de valeur le programme doit lire avant de trouver la valeur ``\"Bleu\"`` ?\n",
    "3. Combien de valeur le programme doit lire avant de trouver la valeur ``\"Gris\"`` ?\n",
    "4. Combien de valeur le programme doit lire avant de trouver la valeur ``Orange`` ?\n",
    "5. Combien de valeur le programme doit lire avant de ne pas trouver la valeur ``Turquoise`` ?\n"
   ]
  },
  {
   "cell_type": "markdown",
   "metadata": {},
   "source": [
    "**Correction** :\n",
    "1. Oui, on peut appliquer la recherche dichotomique car la liste est trié (par ordre alphabétique)\n",
    "2. Il faut lire 2 valeurs : 'Noir', 'Bleu' (le deuxième de la liste d'origine)\n",
    "3. Il faut lire 3 valeurs : 'Noir', 'Bleu', 'Gris'\n",
    "4. Il faut lire 4 valeurs : 'Noir', 'Rose', 'Noir', 'Orange'\n",
    "5. Il faut lire 4 valeurs : 'Noir', 'Rose', 'Rouge', 'Vert'"
   ]
  },
  {
   "cell_type": "markdown",
   "metadata": {},
   "source": [
    "# Exercice\n",
    "Faites un programme qui vous donne le nombre maximum de \"coup\" qu'il faut pour rechercher une valeur dans une liste triée par dichotomie.\n",
    "\n",
    "Pour rappel, il faut utiliser la fonction ``log2`` dans le module ``math``."
   ]
  },
  {
   "cell_type": "code",
   "execution_count": 3,
   "metadata": {},
   "outputs": [
    {
     "name": "stdout",
     "output_type": "stream",
     "text": [
      "7\n",
      "10\n"
     ]
    }
   ],
   "source": [
    "# Correction\n",
    "from math import *\n",
    "\n",
    "def nbcoup(longueur_liste):\n",
    "    valeur_exacte = log2(longueur_liste)\n",
    "    valeur_entiere = ceil(valeur_exacte) #arrondi supérieur\n",
    "    return valeur_entiere\n",
    "    \n",
    "#exemple:\n",
    "print(nbcoup(100))\n",
    "print(nbcoup(1024))\n",
    "\n"
   ]
  },
  {
   "cell_type": "markdown",
   "metadata": {},
   "source": [
    "# Exercice\n",
    "Le code suivant contient plusieurs erreurs. Corrigez les pour que la recherche dichotomique fonctionne."
   ]
  },
  {
   "cell_type": "code",
   "execution_count": 2,
   "metadata": {
    "code_folding": []
   },
   "outputs": [
    {
     "name": "stdout",
     "output_type": "stream",
     "text": [
      "Présence de la valeur '29' : True (nombre de coup : 1)\n",
      "Présence de la valeur '6' : True (nombre de coup : 3)\n",
      "Présence de la valeur '42' : True (nombre de coup : 2)\n",
      "Présence de la valeur '38' : True (nombre de coup : 3)\n",
      "Présence de la valeur '31' : True (nombre de coup : 5)\n",
      "Présence de la valeur '17' : True (nombre de coup : 5)\n",
      "Présence de la valeur '1' : True (nombre de coup : 4)\n",
      "Présence de la valeur '48' : True (nombre de coup : 4)\n",
      "Présence de la valeur '0' : False (nombre de coup : 4)\n",
      "Présence de la valeur '50' : False (nombre de coup : 5)\n"
     ]
    }
   ],
   "source": [
    "\"\"\"\n",
    "def dicotomie(valeur,liste): # Erreur\n",
    "    nbcoup = 0\n",
    "    debut=0\n",
    "    fin=len(liste) # Erreur\n",
    "    while (debut > fin): # Erreur\n",
    "        m = debut + fin /2 # Erreur x 2\n",
    "        v = liste(m) # Erreur\n",
    "        nbcoup += 1\n",
    "        if (v = valeur) : # Erreur\n",
    "            return (True, nbcoup)\n",
    "        elif (v > valeur): \n",
    "            debut = m # Erreur x 2\n",
    "        else :\n",
    "            fin = m # Erreur x 2\n",
    "    return False # Erreur\n",
    "\"\"\"\n",
    "def dichotomie(valeur,liste): # Erreur : le \"h\"\n",
    "    nbcoup = 0\n",
    "    debut=0\n",
    "    fin=len(liste)-1 # Erreur : longueur - 1 pour avoir le dernier index\n",
    "    while (debut <= fin): # Erreur : c'est le contraire : tant que fin >= début\n",
    "        m = (debut + fin) //2 # Erreur x 2 : parenthèse et division entière\n",
    "        v = liste[m] # Erreur : il faut des crochets\n",
    "        #print (v,end='; ')\n",
    "        nbcoup += 1\n",
    "        if (v == valeur) : # Erreur : \"==\" pour tester des valeurs\n",
    "            return (True, nbcoup)\n",
    "        elif (v > valeur): # La valeur lue est plus grande que la valeur recherché\n",
    "            # Erreur x 2: C'est fin qu'il faut modifier, \n",
    "            # et il faut enlever 1 pour enlever la valeur qu'on vient de tester\n",
    "            fin = m - 1 \n",
    "        else :\n",
    "            # Erreur x 2: C'est debut qu'il faut modifier, \n",
    "            # et il faut ajouter 1 pour enlever la valeur qu'on vient de tester\n",
    "            debut = m + 1 \n",
    "    return (False, nbcoup) # Erreur : on retourne dans cette fonction un couple (trouvée, nombre de coup)\n",
    "            \n",
    "def TestPresence(n, liste):\n",
    "    dicho = dichotomie(n,liste)\n",
    "    presence, nbcoup = dicho\n",
    "    print(\"Présence de la valeur '\"+str(n)+\"' : \"+str(presence)+\" (nombre de coup : \"+str(nbcoup)+\")\")\n",
    "\n",
    "liste = [1, 3, 6, 7, 10, 12, 13, 13, 16, 17, 18, 24, 28, 29, 29, 31, 32, 35, 38, 39, 39, 41, 42, 42, 42, 42, 45, 47, 48, 48]\n",
    "TestPresence(29,liste)\n",
    "TestPresence(6,liste)\n",
    "TestPresence(42,liste)\n",
    "TestPresence(38,liste)\n",
    "TestPresence(31,liste)\n",
    "TestPresence(17,liste)\n",
    "TestPresence(1,liste)\n",
    "TestPresence(48,liste)\n",
    "TestPresence(0,liste)\n",
    "TestPresence(50,liste)\n"
   ]
  },
  {
   "cell_type": "markdown",
   "metadata": {},
   "source": [
    "*Résultats attendus*:\n",
    "````\n",
    "Présence de la valeur '29' : True (nombre de coup : 1)\n",
    "Présence de la valeur '6' : True (nombre de coup : 3)\n",
    "Présence de la valeur '42' : True (nombre de coup : 2)\n",
    "Présence de la valeur '38' : True (nombre de coup : 3)\n",
    "Présence de la valeur '31' : True (nombre de coup : 5)\n",
    "Présence de la valeur '17' : True (nombre de coup : 5)\n",
    "Présence de la valeur '1' : True (nombre de coup : 4)\n",
    "Présence de la valeur '48' : True (nombre de coup : 4)\n",
    "Présence de la valeur '0' : False (nombre de coup : 4)\n",
    "Présence de la valeur '50' : False (nombre de coup : 5)\n",
    "````"
   ]
  }
 ],
 "metadata": {
  "kernelspec": {
   "display_name": "Python 3",
   "language": "python",
   "name": "python3"
  },
  "language_info": {
   "codemirror_mode": {
    "name": "ipython",
    "version": 3
   },
   "file_extension": ".py",
   "mimetype": "text/x-python",
   "name": "python",
   "nbconvert_exporter": "python",
   "pygments_lexer": "ipython3",
   "version": "3.6.1"
  }
 },
 "nbformat": 4,
 "nbformat_minor": 2
}
