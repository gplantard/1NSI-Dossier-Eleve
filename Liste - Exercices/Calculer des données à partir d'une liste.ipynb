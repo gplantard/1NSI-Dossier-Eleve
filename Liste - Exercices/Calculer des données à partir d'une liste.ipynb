{
 "cells": [
  {
   "cell_type": "markdown",
   "metadata": {},
   "source": [
    "# Exercice : Calcul de moyenne\n",
    "Faire une fonction qui calcul la moyenne d'une liste de valeur numérique"
   ]
  },
  {
   "cell_type": "code",
   "execution_count": 5,
   "metadata": {},
   "outputs": [
    {
     "name": "stdout",
     "output_type": "stream",
     "text": [
      "Moyenne : None\n"
     ]
    }
   ],
   "source": [
    "def moyenne(liste):\n",
    "    pass\n",
    "\n",
    "ma_liste = [1, -7, 16, 19, 12, 14, 16, 7, 0, 7, 14, 6, 0, 2, -6, 14, -1, -1, 11, 7]\n",
    "print(\"Moyenne :\",moyenne(ma_liste))"
   ]
  },
  {
   "cell_type": "markdown",
   "metadata": {},
   "source": [
    "Résultat attendu:\n",
    "````\n",
    "Moyenne: 6.55\n",
    "````"
   ]
  },
  {
   "cell_type": "markdown",
   "metadata": {},
   "source": [
    "# Exercice : Compter le nombre d'apparision d'une valeur dans une liste\n",
    "Faire une fonction ``compter(valeur,liste)`` qui compte le nombre de fois ou une valeur est dans une liste."
   ]
  },
  {
   "cell_type": "code",
   "execution_count": 9,
   "metadata": {},
   "outputs": [
    {
     "name": "stdout",
     "output_type": "stream",
     "text": [
      "Nombre d'occurence de 1 : None\n",
      "Nombre d'occurence de 8 : None\n",
      "Nombre d'occurence de -1 : None\n"
     ]
    }
   ],
   "source": [
    "def compter(valeur,liste):\n",
    "    pass\n",
    "\n",
    "ma_liste = [1, -7, 16, 19, 12, 14, 16, 7, 0, 7, 14, 6, 0, 2, -6, 14, -1, -1, 11, 7]\n",
    "print(\"Nombre d'occurence de 1 :\",compter(1,ma_liste))\n",
    "print(\"Nombre d'occurence de 8 :\",compter(50,ma_liste))\n",
    "print(\"Nombre d'occurence de -1 :\",compter(-1,ma_liste))"
   ]
  },
  {
   "cell_type": "markdown",
   "metadata": {},
   "source": [
    "Résultat attendu:\n",
    "````\n",
    "Nombre d'occurence de 1 : 1\n",
    "Nombre d'occurence de 8 : 0\n",
    "Nombre d'occurence de -1 : 2\n",
    "````"
   ]
  },
  {
   "cell_type": "markdown",
   "metadata": {},
   "source": [
    "# Exercice: Recherche d'extremum dans un liste\n",
    "## Version 1\n",
    "1. Faire une fonction ``minimum(liste)`` qui renvoie la valeur minimum de la liste de nombre\n",
    "2. Faire une fonction ``maximum(liste)`` qui renvoie la valeur maximum de la liste de nombre"
   ]
  },
  {
   "cell_type": "code",
   "execution_count": null,
   "metadata": {},
   "outputs": [],
   "source": [
    "def minimum(liste):\n",
    "    # A vous de completer\n",
    "    passh\n",
    "    # ------\n",
    "\n",
    "def maximum(liste):\n",
    "    # A vous de completer\n",
    "    pass\n",
    "    # ------\n",
    "\n",
    "ma_liste = [1, -7, 16, 19, 12, 14, 16, 7, 0, 7, 14, 6, 0, 2, -6, 14, -1, -1, 11, 7]\n",
    "print (\"Minimum :\",minimum(ma_liste))\n",
    "print (\"Maximum :\",maximum(ma_liste))"
   ]
  },
  {
   "cell_type": "markdown",
   "metadata": {},
   "source": [
    "Résultat attendu:\n",
    "````\n",
    "Minimum : -7\n",
    "Maximum : 19\n",
    "````"
   ]
  },
  {
   "cell_type": "markdown",
   "metadata": {},
   "source": [
    "## Version 2\n",
    "1. Faire une fonction ``minimum2(liste)`` qui renvoie l'indice de la valeur minimum ainsi que le minimum de la liste de nombre\n",
    "2. Faire une fonction ``maximum2(liste)`` qui renvoie l'indice de la valeur maximum ainsi que le maximum de la liste de nombre"
   ]
  },
  {
   "cell_type": "code",
   "execution_count": 2,
   "metadata": {},
   "outputs": [
    {
     "name": "stdout",
     "output_type": "stream",
     "text": [
      "Minimum : None\n",
      "Maximum : None\n"
     ]
    }
   ],
   "source": [
    "def minimum2(liste):\n",
    "    # A vous de completer\n",
    "    pass\n",
    "    # ------\n",
    "\n",
    "def maximum2(liste):\n",
    "    # A vous de completer\n",
    "    pass\n",
    "    # ------\n",
    "\n",
    "ma_liste = [1, -7, 16, 19, 12, 14, 16, 7, 0, 7, 14, 6, 0, 2, -6, 14, -1, -1, 11, 7]\n",
    "print (\"Minimum :\",minimum2(ma_liste))\n",
    "print (\"Maximum :\",maximum2(ma_liste))"
   ]
  },
  {
   "cell_type": "markdown",
   "metadata": {},
   "source": [
    "Résultat attendu:\n",
    "````\n",
    "Minimum : (1, -7)\n",
    "Maximum : (3, 19)\n",
    "````"
   ]
  }
 ],
 "metadata": {
  "kernelspec": {
   "display_name": "Python 3",
   "language": "python",
   "name": "python3"
  },
  "language_info": {
   "codemirror_mode": {
    "name": "ipython",
    "version": 3
   },
   "file_extension": ".py",
   "mimetype": "text/x-python",
   "name": "python",
   "nbconvert_exporter": "python",
   "pygments_lexer": "ipython3",
   "version": "3.6.7"
  }
 },
 "nbformat": 4,
 "nbformat_minor": 2
}
